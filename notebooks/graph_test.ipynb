{
 "cells": [
  {
   "cell_type": "code",
   "execution_count": 7,
   "metadata": {
    "collapsed": true
   },
   "outputs": [],
   "source": [
    "import sys, os\n",
    "sys.path.insert(0, '../')\n",
    "sys.path.insert(0, '../python_src/')\n",
    "\n",
    "import numpy as np\n",
    "import scipy as sp\n",
    "\n",
    "import homology\n",
    "import chomology"
   ]
  },
  {
   "cell_type": "code",
   "execution_count": 8,
   "metadata": {},
   "outputs": [
    {
     "name": "stdout",
     "output_type": "stream",
     "text": [
      "0 0 [] [6, 7, 8, 9, 10]\n",
      "1 0 [] [6]\n",
      "2 0 [] [7]\n",
      "3 0 [] [8]\n",
      "4 0 [] [9]\n",
      "5 0 [] [10]\n",
      "6 1 [0, 1] []\n",
      "7 1 [0, 2] []\n",
      "8 1 [0, 3] []\n",
      "9 1 [0, 4] []\n",
      "10 1 [0, 5] []\n",
      "pos [ 0.  0. -1.  0.  1.  0.  0. -1.  0.  1.  1.  1.]\n",
      "[[[3, 1], [4, 1], [3, 2], [5, 2], [5, 4]], [], [], [], [], []]\n"
     ]
    }
   ],
   "source": [
    "\n",
    "NV = 6\n",
    "NE = 5\n",
    "\n",
    "DIM = 2\n",
    "\n",
    "edgei = [0, 0, 0, 0, 0]\n",
    "edgej = [1, 2, 3, 4, 5]\n",
    "\n",
    "L = np.array([10.0, 10.0], float)\n",
    "\n",
    "comp = chomology.construct_graph_complex(NV, NE, edgei, edgej, False, False)\n",
    "\n",
    "for i in range(comp.ncells):\n",
    "    print(i, comp.get_dim(i), comp.get_facets(i), comp.get_cofacets(i))\n",
    "\n",
    "\n",
    "vert_pos = np.zeros(DIM*NV, float)\n",
    "vert_pos[0:DIM] = [0, 0]\n",
    "vert_pos[DIM:2*DIM] = [-1, 0]\n",
    "vert_pos[2*DIM:3*DIM] = [1, 0]\n",
    "vert_pos[3*DIM:4*DIM] = [0, -1]\n",
    "vert_pos[4*DIM:5*DIM] = [0, 1]\n",
    "vert_pos[5*DIM:6*DIM] = [1, 1]\n",
    "\n",
    "print(\"pos\", vert_pos)\n",
    "    \n",
    "corners = chomology.find_corners(comp, DIM, NV, vert_pos, L)\n",
    "\n",
    "print(corners)"
   ]
  },
  {
   "cell_type": "code",
   "execution_count": null,
   "metadata": {
    "collapsed": true
   },
   "outputs": [],
   "source": []
  }
 ],
 "metadata": {
  "kernelspec": {
   "display_name": "Python 3",
   "language": "python",
   "name": "python3"
  },
  "language_info": {
   "codemirror_mode": {
    "name": "ipython",
    "version": 3
   },
   "file_extension": ".py",
   "mimetype": "text/x-python",
   "name": "python",
   "nbconvert_exporter": "python",
   "pygments_lexer": "ipython3",
   "version": "3.6.2"
  }
 },
 "nbformat": 4,
 "nbformat_minor": 2
}
