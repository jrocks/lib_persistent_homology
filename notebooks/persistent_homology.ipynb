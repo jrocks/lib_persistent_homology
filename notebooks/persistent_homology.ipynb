{
 "cells": [
  {
   "cell_type": "code",
   "execution_count": null,
   "metadata": {},
   "outputs": [],
   "source": [
    "%load_ext autoreload\n",
    "\n",
    "import sys, os\n",
    "sys.path.insert(0, '../')\n",
    "sys.path.insert(0, '../python_src/')\n",
    "\n",
    "import numpy as np\n",
    "import numpy.linalg as la\n",
    "import scipy as sp\n",
    "import scipy.io as spio\n",
    "\n",
    "import matplotlib.pyplot as plt; plt.rcdefaults()\n",
    "import matplotlib as mpl\n",
    "import seaborn as sns\n",
    "import matplotlib.colors as mcolors\n",
    "\n",
    "\n",
    "import itertools as it\n",
    "import queue\n",
    "import networkx as nx\n",
    "import skimage.morphology as morph\n",
    "\n",
    "import homology\n",
    "\n",
    "mpl.rcParams['mathtext.fontset'] = 'cm'\n",
    "sns.set_context('poster', font_scale=1.25)\n",
    "sns.set(color_codes=True, palette='deep')\n",
    "sns.set_style('ticks', {'xtick.direction': 'in','ytick.direction': 'in', 'axes.linewidth': 2.0})"
   ]
  },
  {
   "cell_type": "code",
   "execution_count": null,
   "metadata": {},
   "outputs": [],
   "source": [
    "# mat = spio.loadmat(\"../sample_data/Z17.mat\")\n",
    "# data = mat['Z17'][1500:2000, 1500:2000]\n",
    "\n",
    "mat = spio.loadmat(\"../sample_data/thresholded/Creases15.mat\")\n",
    "data = mat['ridges'][1750:2000, 1750:2000].astype(np.int8)\n",
    "\n",
    "print(data.shape)\n",
    "\n",
    "\n",
    "# # data = np.array([[1,0,-1,0,1],\n",
    "# #                 [0,1,0,1,0],\n",
    "# #                 [-1,0,-1,0,-1],\n",
    "# #                 [0,1,0,1,0],\n",
    "# #                 [1,0,-1,0,1]])\n",
    "\n",
    "# # data = mat['ridges'][1000:2000, 1000:2000].astype(np.int8)+mat['valleys'][1000:2000, 1000:2000].astype(np.int8)\n",
    "\n",
    "# # data = mat['ridges'].astype(np.int8)\n",
    "\n",
    "fig, ax = plt.subplots(figsize=(16,16))\n",
    "im = ax.imshow(data, cmap=plt.cm.Blues_r)\n",
    "ax.axis('off')\n",
    "# plt.colorbar(im)\n",
    "plt.show()"
   ]
  },
  {
   "cell_type": "code",
   "execution_count": null,
   "metadata": {
    "scrolled": true
   },
   "outputs": [],
   "source": [
    "G, positions = homology.construct_mesh_graph(data.shape[0], data.shape[1], diagonals=True, pos=True)\n",
    "\n",
    "segments = homology.compute_graph_segmentation(G, -data.flatten(), True, positions)\n"
   ]
  },
  {
   "cell_type": "code",
   "execution_count": null,
   "metadata": {
    "scrolled": false
   },
   "outputs": [],
   "source": [
    "palette = it.cycle(sns.color_palette(\"deep\"))\n",
    "\n",
    "image = np.zeros([data.shape[0]*data.shape[1], 3])\n",
    "\n",
    "for i in segments:\n",
    "    if i == 0:\n",
    "        image[list(segments[i])] = (0.0, 0.0, 0.0)\n",
    "    else:\n",
    "        color = next(palette)\n",
    "        image[list(segments[i])] = color\n",
    "\n",
    "fig, ax = plt.subplots(figsize=(16, 16))\n",
    "ax.imshow(image.reshape((data.shape[0], data.shape[1], 3)))\n",
    "ax.axis('off')\n",
    "plt.show()"
   ]
  },
  {
   "cell_type": "code",
   "execution_count": null,
   "metadata": {},
   "outputs": [],
   "source": [
    "G, positions = homology.construct_mesh_graph(data.shape[0], data.shape[1], diagonals=True, pos=True)\n",
    "\n",
    "                                             \n",
    "dist = homology.compute_graph_dilation(G, np.where(data.flatten() == 1)[0], euclidean=True, positions=positions)"
   ]
  },
  {
   "cell_type": "code",
   "execution_count": null,
   "metadata": {},
   "outputs": [],
   "source": [
    "fig, ax = plt.subplots(figsize=(16,16))    \n",
    "ax.imshow(dist.reshape(data.shape), cmap=plt.cm.Blues_r)\n",
    "ax.axis('off')\n",
    "plt.show()"
   ]
  },
  {
   "cell_type": "code",
   "execution_count": null,
   "metadata": {
    "scrolled": true
   },
   "outputs": [],
   "source": [
    "%autoreload\n",
    "\n",
    "segments = homology.compute_graph_segmentation(G, -dist)"
   ]
  },
  {
   "cell_type": "code",
   "execution_count": null,
   "metadata": {},
   "outputs": [],
   "source": [
    "palette = it.cycle(sns.color_palette(\"deep\", 6))\n",
    "\n",
    "image = np.zeros([data.shape[0]*data.shape[1], 3])\n",
    "\n",
    "for i in segments:\n",
    "    if i == 0:\n",
    "        image[list(segments[i])] = (0.0, 0.0, 0.0)\n",
    "    else:\n",
    "        color = next(palette)\n",
    "        image[list(segments[i])] = color\n",
    "\n",
    "# image[np.where(data.flatten() == 1)[0]] = (0.0, 0.0, 0.0)\n",
    "\n",
    "# image[np.where(dist > 27 )[0]] = (1.0, 1.0, 1.0)\n",
    "\n",
    "fig, ax = plt.subplots(figsize=(32,32))\n",
    "ax.imshow(image.reshape((data.shape[0], data.shape[1], 3)), cmap=plt.cm.gray)\n",
    "ax.axis('off')\n",
    "plt.show()"
   ]
  },
  {
   "cell_type": "code",
   "execution_count": null,
   "metadata": {},
   "outputs": [],
   "source": [
    "%autoreload\n",
    "\n",
    "heights = data.flatten()\n",
    "\n",
    "print(\"Creating Mesh\")\n",
    "comp = homology.construct_mesh_complex(data.shape[0], data.shape[1], False)\n",
    "\n",
    "\n",
    "# print(data.shape)\n",
    "\n",
    "# print(comp.faces)\n",
    "\n",
    "# heights = np.append(heights, np.min(heights)-1)\n",
    "\n",
    "print(\"Creating Filtration\")\n",
    "(simp_filt, dims) = homology.construct_lower_star_filtration(comp, np.argsort(heights))\n",
    "\n",
    "\n",
    "# print(simp_filt)\n",
    "# print(dims)\n",
    "\n",
    "print(\"Calculating Persistence\")\n",
    "(ipairs, hsort, persist, sim_to_pindex) = homology.compute_persistence_pairs(simp_filt, dims, sorted(heights), comp)\n",
    "\n",
    "print(\"Persistence Pairs:\", ipairs)\n",
    "print(\"Infinite Persistence:\", persist)"
   ]
  },
  {
   "cell_type": "code",
   "execution_count": null,
   "metadata": {
    "scrolled": false
   },
   "outputs": [],
   "source": [
    "birth = [[] for i in range(3)]\n",
    "death = [[] for i in range(3)]\n",
    "mult = [[] for i in range(3)]\n",
    "for d in range(3):\n",
    "    for (i, j) in list(ipairs[d].keys()):\n",
    "        birth[d].append(hsort[i])\n",
    "        death[d].append(hsort[j])\n",
    "        mult[d].append(ipairs[d][(i, j)])\n",
    "\n",
    "pbirth = [[] for i in range(3)]\n",
    "for d in range(3):\n",
    "    for i in (persist[d].keys()):\n",
    "        pbirth[d].append(hsort[i])\n",
    "\n",
    "# print(birth)\n",
    "# print(death)\n",
    "\n",
    "for d in range(3):\n",
    "    \n",
    "    fig = plt.figure(figsize=(8,8))\n",
    "    \n",
    "    ax1 = fig.add_subplot(1,1,1)\n",
    "\n",
    "    ax1.scatter(birth[d], death[d], c=mult[d], marker='.', cmap='Blues', edgecolors='k', linewidths=1.0, s=100)\n",
    "#     ax1.scatter(birth[d], death[d], c='b', marker='.', s=20)\n",
    "    \n",
    "    ax1.scatter(pbirth[d], pbirth[d], marker='s', color='r')\n",
    "\n",
    "#     ax1.plot(np.linspace(0, 125, 100), np.linspace(0, 125, 100), 'k--')\n",
    "    \n",
    "    ax1.plot(np.linspace(np.min(heights), np.max(heights), 100), np.linspace(np.min(heights), np.max(heights), 100), 'k--')\n",
    "    \n",
    "    ax1.set_title(r\"$d={}$\".format(d))\n",
    "\n",
    "#     ax1.set_xscale('symlog', linthreshx=1e-16)\n",
    "#     ax1.set_yscale('symlog', linthreshy=1e-16)\n",
    "    \n",
    "    ax1.set_xlabel(r\"birth\")\n",
    "    ax1.set_ylabel(r\"death\")\n",
    "        \n",
    "    plt.tight_layout()\n",
    "\n",
    "    plt.show()\n"
   ]
  },
  {
   "cell_type": "code",
   "execution_count": null,
   "metadata": {
    "scrolled": false
   },
   "outputs": [],
   "source": [
    "for d in range(2):\n",
    "\n",
    "    fig = plt.figure(figsize=(8,8))\n",
    "    \n",
    "    ax1 = fig.add_subplot(1,1,1)\n",
    "\n",
    "    ax1.scatter(birth[d], np.array(death[d])-np.array(birth[d]), c=mult[d], marker='.', cmap='Blues', edgecolors='k', linewidths=1.0, s=100)\n",
    "    \n",
    "    ax1.scatter(pbirth[d], np.zeros_like(pbirth[d]), marker='s', color='r')\n",
    "        \n",
    "    ax1.set_title(r\"$d={}$\".format(d))\n",
    "\n",
    "\n",
    "    ax1.set_yscale('log')\n",
    "    \n",
    "    ax1.set_ylim(np.min(np.array(death[d])-np.array(birth[d]))/2, \n",
    "                 np.max(np.array(death[d])-np.array(birth[d]))*2)\n",
    "    \n",
    "    ax1.set_xlabel(r\"birth\")\n",
    "    ax1.set_ylabel(r\"persistence\")\n",
    "        \n",
    "    plt.tight_layout()\n",
    "\n",
    "    plt.show()"
   ]
  },
  {
   "cell_type": "code",
   "execution_count": null,
   "metadata": {
    "collapsed": true
   },
   "outputs": [],
   "source": []
  }
 ],
 "metadata": {
  "kernelspec": {
   "display_name": "Python 3",
   "language": "python",
   "name": "python3"
  },
  "language_info": {
   "codemirror_mode": {
    "name": "ipython",
    "version": 3
   },
   "file_extension": ".py",
   "mimetype": "text/x-python",
   "name": "python",
   "nbconvert_exporter": "python",
   "pygments_lexer": "ipython3",
   "version": "3.6.2"
  }
 },
 "nbformat": 4,
 "nbformat_minor": 2
}
