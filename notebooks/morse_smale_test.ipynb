{
 "cells": [
  {
   "cell_type": "code",
   "execution_count": 1,
   "metadata": {},
   "outputs": [],
   "source": [
    "import sys, os\n",
    "sys.path.insert(0, '../')\n",
    "sys.path.insert(0, '../python_src/')\n",
    "\n",
    "import numpy as np\n",
    "import scipy as sp\n",
    "import matplotlib as mpl\n",
    "import matplotlib.pyplot as plt; plt.rcdefaults()\n",
    "import seaborn as sns\n",
    "\n",
    "import homology\n",
    "import chomology"
   ]
  },
  {
   "cell_type": "code",
   "execution_count": 2,
   "metadata": {},
   "outputs": [
    {
     "name": "stdout",
     "output_type": "stream",
     "text": [
      "0 0 0 []\n",
      "1 0 1 []\n",
      "2 0 2 []\n",
      "3 0 3 []\n",
      "4 1 0 [0, 3]\n",
      "5 1 1 [0, 1]\n",
      "6 1 2 [1, 2]\n",
      "7 1 3 [2, 3]\n"
     ]
    }
   ],
   "source": [
    "# NN = 5\n",
    "# NE = 6\n",
    "\n",
    "# edgei = [0, 0, 1, 2, 2, 3]\n",
    "# edgej = [1, 2, 2, 3, 4, 4]\n",
    "\n",
    "# f = [1, 2, 4, 3, 5, 0]\n",
    "\n",
    "# NN = 2\n",
    "# NE = 1\n",
    "\n",
    "# edgei = [0]\n",
    "# edgej = [1]\n",
    "\n",
    "# f = [0]\n",
    "\n",
    "\n",
    "NN = 4\n",
    "NE = 4\n",
    "\n",
    "edgei = [0, 0, 1, 2]\n",
    "edgej = [3, 1, 2, 3]\n",
    "\n",
    "f = [0, 2, 1, 3]\n",
    "\n",
    "graph = chomology.Graph(NN, NE, edgei, edgej)\n",
    "\n",
    "graph_comp = chomology.construct_graph_complex(graph, False)\n",
    "\n",
    "\n",
    "for c in range(graph_comp.ncells):\n",
    "        \n",
    "    print(c, graph_comp.get_dim(c), graph_comp.get_label(c), graph_comp.get_facets(c))\n",
    "\n",
    "    "
   ]
  },
  {
   "cell_type": "code",
   "execution_count": 3,
   "metadata": {},
   "outputs": [
    {
     "name": "stdout",
     "output_type": "stream",
     "text": [
      "[0, 3, 4, 1, 2, 6, 5, 7]\n",
      "[2, 3, 7, 1, 0, 5, 6, 4]\n"
     ]
    }
   ],
   "source": [
    "filt_asc = chomology.construct_induced_filtration(graph_comp, f, \n",
    "                                                  np.argsort(np.argsort(f)), filt_dim=1, ascend=True)\n",
    "\n",
    "print(filt_asc.get_filtration())\n",
    "\n",
    "filt_desc = chomology.construct_induced_filtration(graph_comp, f, \n",
    "                                                  np.argsort(np.argsort(f)), filt_dim=1, ascend=False)\n",
    "\n",
    "print(filt_desc.get_filtration())"
   ]
  },
  {
   "cell_type": "code",
   "execution_count": 4,
   "metadata": {},
   "outputs": [
    {
     "name": "stdout",
     "output_type": "stream",
     "text": [
      "[ 0  1  6  4 -1  5 -1  7] [ 0  1 -1 -1  3  5  2  7]\n",
      "[ 5  1  2  7  4 -1  6 -1] [-1  1  2 -1  4  0  6  3]\n"
     ]
    }
   ],
   "source": [
    "V_asc, coV_asc = chomology.construct_discrete_gradient(filt_asc, graph_comp)\n",
    "\n",
    "print(V_asc, coV_asc)\n",
    "\n",
    "\n",
    "V_desc, coV_desc = chomology.construct_discrete_gradient(filt_desc, graph_comp)\n",
    "\n",
    "print(V_desc, coV_desc)"
   ]
  },
  {
   "cell_type": "code",
   "execution_count": 5,
   "metadata": {},
   "outputs": [
    {
     "name": "stdout",
     "output_type": "stream",
     "text": [
      "0 0 -1 []\n",
      "1 0 0 []\n",
      "2 0 1 []\n",
      "3 0 2 []\n",
      "4 0 3 []\n",
      "5 1 4 [1, 4]\n",
      "6 1 5 [1, 2]\n",
      "7 1 6 [2, 3]\n",
      "8 1 7 [3, 4]\n",
      "9 1 0 [1, 0]\n",
      "10 1 1 [2, 0]\n",
      "11 1 2 [3, 0]\n",
      "12 1 3 [4, 0]\n",
      "13 2 4 [5, 9, 12]\n",
      "14 2 5 [6, 9, 10]\n",
      "15 2 6 [7, 10, 11]\n",
      "16 2 7 [8, 11, 12]\n"
     ]
    }
   ],
   "source": [
    "ext_comp = chomology.extend_complex(graph_comp)\n",
    "\n",
    "for c in range(ext_comp.ncells):\n",
    "        \n",
    "    print(c, ext_comp.get_dim(c), ext_comp.get_label(c), ext_comp.get_facets(c))"
   ]
  },
  {
   "cell_type": "code",
   "execution_count": 6,
   "metadata": {},
   "outputs": [
    {
     "name": "stdout",
     "output_type": "stream",
     "text": [
      "[0, 3, 4, 1, 2, 6, 5, 7]\n",
      "[2, 3, 7, 1, 0, 5, 6, 4]\n",
      "[0, 1, 4, 5, 2, 3, 7, 6, 8, 11, 12, 16, 10, 9, 14, 15, 13]\n"
     ]
    }
   ],
   "source": [
    "ext_filt = chomology.extend_filtration(filt_asc, filt_desc, ext_comp)\n",
    "\n",
    "print(filt_asc.get_filtration())\n",
    "print(filt_desc.get_filtration())\n",
    "\n",
    "print(ext_filt.get_filtration())\n"
   ]
  },
  {
   "cell_type": "code",
   "execution_count": 7,
   "metadata": {},
   "outputs": [
    {
     "name": "stdout",
     "output_type": "stream",
     "text": [
      "[ 0  1  6  4 -1  5 -1  7] [ 0  1 -1 -1  3  5  2  7]\n",
      "[ 5  1  2  7  4 -1  6 -1] [-1  1  2 -1  4  0  6  3]\n",
      "[ 0  1  2  7  5 -1  6 -1  8 14 10 11 16 13 -1 15 -1] [ 0  1  2 -1 -1  4  6  3  8 -1 10 11 -1 13  9 15 12]\n"
     ]
    }
   ],
   "source": [
    "V, coV = chomology.extend_discrete_gradient(V_asc, V_desc, ext_comp)\n",
    "\n",
    "\n",
    "print(V_asc, coV_asc)\n",
    "print(V_desc, coV_desc)\n",
    "\n",
    "print(V, coV)"
   ]
  },
  {
   "cell_type": "code",
   "execution_count": 8,
   "metadata": {},
   "outputs": [
    {
     "name": "stdout",
     "output_type": "stream",
     "text": [
      "0 0 0 []\n",
      "1 0 1 []\n",
      "2 0 2 []\n",
      "3 1 6 [2, 1]\n",
      "4 1 8 [1, 2]\n",
      "5 1 10 [0, 2]\n",
      "6 1 11 [2, 0]\n",
      "7 2 13 [4, 5, 6, 3]\n",
      "8 2 15 [6, 5]\n",
      "[0, 1, 2, 3, 4, 6, 5, 8, 7]\n"
     ]
    }
   ],
   "source": [
    "morse_comp = chomology.construct_morse_complex(V, ext_comp)\n",
    "\n",
    "for c in range(morse_comp.ncells):\n",
    "        \n",
    "    print(c, morse_comp.get_dim(c), morse_comp.get_label(c), morse_comp.get_facets(c))\n",
    "    \n",
    "    \n",
    "morse_filt = chomology.construct_morse_filtration(ext_filt, morse_comp)\n",
    "\n",
    "print(morse_filt.get_filtration())"
   ]
  },
  {
   "cell_type": "code",
   "execution_count": 9,
   "metadata": {},
   "outputs": [
    {
     "name": "stdout",
     "output_type": "stream",
     "text": [
      "[(4, 5), (3, 7), (2, 6), (1, 11), (12, 16), (9, 14), (10, 15), (8, 13)]\n",
      "(4, 5) 0.0\n",
      "(3, 7) 0.0\n",
      "(2, 6) 1.0\n",
      "(1, 11) 3.0\n",
      "(12, 16) 0.0\n",
      "(9, 14) 0.0\n",
      "(10, 15) 1.0\n",
      "(8, 13) 3.0\n",
      "[(2, 3), (1, 6), (5, 8), (4, 7)]\n",
      "(2, 3) 1.0\n",
      "(1, 6) 3.0\n",
      "(5, 8) 1.0\n",
      "(4, 7) 3.0\n"
     ]
    }
   ],
   "source": [
    "pairs = chomology.calc_persistence(ext_filt, ext_comp)\n",
    "\n",
    "print(pairs)\n",
    "\n",
    "for p in pairs:\n",
    "    print(p, np.abs(ext_filt.get_func(p[0]) - ext_filt.get_func(p[1])))\n",
    "    \n",
    "    \n",
    "mpairs = chomology.calc_persistence(morse_filt, morse_comp)\n",
    "\n",
    "print(mpairs)\n",
    "\n",
    "for p in mpairs:\n",
    "    print(p, np.abs(morse_filt.get_func(p[0]) - morse_filt.get_func(p[1])))"
   ]
  },
  {
   "cell_type": "code",
   "execution_count": 10,
   "metadata": {},
   "outputs": [
    {
     "name": "stdout",
     "output_type": "stream",
     "text": [
      "{2: {2, 3}, 1: {1, 4}, 0: {0}}\n",
      "Basin {2: {2, 3}, 1: {1, 4}}\n",
      "2 {1, 2}\n",
      "1 {0, 3}\n",
      "Peaks {11: {11, 12}, 10: {9, 10}}\n",
      "11 {2, 3}\n",
      "10 {0, 1}\n",
      "{6, 7}\n",
      "{14, 15}\n"
     ]
    }
   ],
   "source": [
    "basins = chomology.find_morse_basins(coV, morse_comp, ext_comp)\n",
    "\n",
    "print(basins)\n",
    "\n",
    "(basins, peaks) = chomology.find_morse_smale_basins(coV, morse_comp, ext_comp)\n",
    "\n",
    "print(\"Basin\", basins)\n",
    "\n",
    "for b in basins:\n",
    "    print(b, ext_comp.get_labels(basins[b]))\n",
    "\n",
    "print(\"Peaks\", peaks)\n",
    "\n",
    "for p in peaks:\n",
    "    print(p, ext_comp.get_labels(peaks[p]))\n",
    "        \n",
    "(skel_asc, skel_desc) = chomology.find_morse_smale_skeleton(mpairs, V, morse_comp, ext_comp)\n",
    "\n",
    "print(skel_asc)\n",
    "print(skel_desc)"
   ]
  },
  {
   "cell_type": "code",
   "execution_count": 11,
   "metadata": {},
   "outputs": [
    {
     "name": "stdout",
     "output_type": "stream",
     "text": [
      "Pass: 1\n",
      "Unpaired Critical Cells: 9\n",
      "Cancellable Pairs: 0\n",
      "Pass: 2\n",
      "Unpaired Critical Cells: 5\n",
      "Cancellable Pairs: 1\n",
      "1.0 (2, 6)\n",
      "0 0 0 []\n",
      "1 0 1 []\n",
      "2 0 2 []\n",
      "3 1 6 [2, 1]\n",
      "4 1 8 [1, 2]\n",
      "5 1 10 [0, 2]\n",
      "6 1 11 [2, 0]\n",
      "7 2 13 [4, 5, 6, 3]\n",
      "8 2 15 [6, 5]\n",
      "Pass: 1\n",
      "Critical Cells: 9\n",
      "Cancellable Pairs: 1\n",
      "Cancelled Pairs: 1\n",
      "Remaining Critical Cells: 7\n",
      "Pass: 2\n",
      "Critical Cells: 7\n",
      "Cancellable Pairs: 1\n",
      "Cancelled Pairs: 1\n",
      "Remaining Critical Cells: 5\n",
      "Pass: 3\n",
      "Critical Cells: 5\n",
      "Cancellable Pairs: 0\n",
      "Cancelled Pairs: 0\n",
      "Remaining Critical Cells: 5\n",
      "0 0 0 []\n",
      "1 0 1 []\n",
      "2 0 2 []\n",
      "3 1 6 [2, 1]\n",
      "4 1 11 [2, 0]\n"
     ]
    }
   ],
   "source": [
    "(threshold, pair) = chomology.find_join_feature([1, 2], V, coV, ext_filt, ext_comp, True)\n",
    "\n",
    "\n",
    "print(threshold, pair)\n",
    "\n",
    "\n",
    "morse_comp = chomology.construct_morse_complex(V, ext_comp)\n",
    "\n",
    "for c in range(morse_comp.ncells):\n",
    "        \n",
    "    print(c, morse_comp.get_dim(c), morse_comp.get_label(c), morse_comp.get_facets(c))\n",
    "    \n",
    "    \n",
    "chomology.simplify_morse_complex({pair}, V, coV, ext_filt, ext_comp, True)\n",
    "\n",
    "# chomology.simplify_morse_complex(set(), V, coV, ext_filt, ext_comp, True)\n",
    "\n",
    "morse_comp = chomology.construct_morse_complex(V, ext_comp)\n",
    "\n",
    "for c in range(morse_comp.ncells):\n",
    "        \n",
    "    print(c, morse_comp.get_dim(c), morse_comp.get_label(c), morse_comp.get_facets(c))"
   ]
  },
  {
   "cell_type": "code",
   "execution_count": 12,
   "metadata": {},
   "outputs": [
    {
     "name": "stdout",
     "output_type": "stream",
     "text": [
      "[ 0  1  2  7  5 -1  6 -1 16 14 15 11 13 -1 -1 -1 -1] [ 0  1  2 -1 -1  4  6  3 -1 -1 -1 11 -1 12  9 10  8]\n"
     ]
    }
   ],
   "source": [
    "print(V, coV)"
   ]
  },
  {
   "cell_type": "code",
   "execution_count": 11,
   "metadata": {},
   "outputs": [
    {
     "name": "stdout",
     "output_type": "stream",
     "text": [
      "4 9\n",
      "[9] []\n"
     ]
    }
   ],
   "source": [
    "N = (ext_comp.ncells-1) / 2\n",
    "\n",
    "asc_mskel = []\n",
    "desc_mskel = []\n",
    "\n",
    "for (i, j) in pairs:\n",
    "    \n",
    "    if morse_comp.get_dim(j) == 1 and morse_comp.get_label(i)-1 < N and morse_comp.get_label(j)-1 < N:\n",
    "        print(j, morse_comp.get_label(j))\n",
    "        \n",
    "        asc_mskel.append(morse_comp.get_label(j))\n",
    "        \n",
    "    elif morse_comp.get_dim(j) == 2 and morse_comp.get_label(i)-1 >= N and morse_comp.get_label(j)-1 >= N:\n",
    "        \n",
    "        print(j, morse_comp.get_label(j))\n",
    "        \n",
    "        desc_mskel.append(morse_comp.get_label(j))\n",
    "    \n",
    "    \n",
    "print(asc_mskel, desc_mskel)"
   ]
  },
  {
   "cell_type": "code",
   "execution_count": 12,
   "metadata": {},
   "outputs": [
    {
     "name": "stdout",
     "output_type": "stream",
     "text": [
      "{9: {9, 7}}\n",
      "{}\n"
     ]
    }
   ],
   "source": [
    "asc_skel = chomology.find_morse_features(asc_mskel, V, ext_comp)\n",
    "desc_skel = chomology.find_morse_features(desc_mskel, V, ext_comp)\n",
    "\n",
    "print(asc_skel)\n",
    "print(desc_skel)"
   ]
  },
  {
   "cell_type": "code",
   "execution_count": null,
   "metadata": {
    "collapsed": true
   },
   "outputs": [],
   "source": []
  }
 ],
 "metadata": {
  "kernelspec": {
   "display_name": "Python 3",
   "language": "python",
   "name": "python3"
  },
  "language_info": {
   "codemirror_mode": {
    "name": "ipython",
    "version": 3
   },
   "file_extension": ".py",
   "mimetype": "text/x-python",
   "name": "python",
   "nbconvert_exporter": "python",
   "pygments_lexer": "ipython3",
   "version": "3.6.2"
  }
 },
 "nbformat": 4,
 "nbformat_minor": 2
}
