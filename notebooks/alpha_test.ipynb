{
 "cells": [
  {
   "cell_type": "code",
   "execution_count": 1,
   "metadata": {},
   "outputs": [],
   "source": [
    "import sys, os\n",
    "sys.path.insert(0, '../')\n",
    "sys.path.insert(0, '../python_src/')\n",
    "\n",
    "import numpy as np\n",
    "import scipy as sp\n",
    "import matplotlib as mpl\n",
    "import matplotlib.pyplot as plt; plt.rcdefaults()\n",
    "import seaborn as sns\n",
    "\n",
    "import homology\n",
    "import chomology"
   ]
  },
  {
   "cell_type": "code",
   "execution_count": 2,
   "metadata": {},
   "outputs": [
    {
     "name": "stdout",
     "output_type": "stream",
     "text": [
      "Regular triangulation successfully computed:  4  vertices,  2  finite cells.\n",
      "Cell:\n",
      "0\n",
      "3\n",
      "1\n",
      "Cell:\n",
      "0\n",
      "2\n",
      "3\n",
      "0 0 0 [] [4, 5, 7]\n",
      "1 1 0 [] [5, 6]\n",
      "2 2 0 [] [7, 8]\n",
      "3 3 0 [] [4, 6, 8]\n",
      "4 4 1 [3, 0] [9, 10]\n",
      "5 5 1 [1, 0] [9]\n",
      "6 6 1 [3, 1] [9]\n",
      "7 7 1 [2, 0] [10]\n",
      "8 8 1 [3, 2] [10]\n",
      "9 9 2 [6, 4, 5] []\n",
      "10 10 2 [8, 4, 7] []\n"
     ]
    }
   ],
   "source": [
    "vert_pos = np.array([0.0, 0.0, 0.0, 1.1, 1.2, 0.0, 1.0, 1.0], float)\n",
    "weights = [0.0, 0.0, 0.0, 0.0]\n",
    "\n",
    "comp = chomology.construct_delaunay_complex_2D(4, vert_pos, weights)\n",
    "\n",
    "for i in range(comp.ncells):\n",
    "    print(i, comp.get_label(i), comp.get_dim(i), comp.get_facets(i), comp.get_cofacets(i))"
   ]
  },
  {
   "cell_type": "code",
   "execution_count": 3,
   "metadata": {},
   "outputs": [
    {
     "name": "stdout",
     "output_type": "stream",
     "text": [
      "[0.0, 0.0, 0.0, 0.0, 0.5, 0.30250000000000005, 0.25249999999999995, 0.36, 0.2599999999999998, 0.505, 0.52]\n",
      "[0, 1, 2, 3, 6, 8, 5, 7, 4, 9, 10]\n"
     ]
    }
   ],
   "source": [
    "alpha_vals = chomology.calc_alpha_vals_2D(vert_pos, weights, comp)\n",
    "\n",
    "filt = chomology.construct_filtration(alpha_vals, comp)\n",
    "\n",
    "print(alpha_vals)\n",
    "print(filt.get_filtration())"
   ]
  },
  {
   "cell_type": "code",
   "execution_count": null,
   "metadata": {
    "collapsed": true
   },
   "outputs": [],
   "source": []
  },
  {
   "cell_type": "code",
   "execution_count": null,
   "metadata": {
    "collapsed": true
   },
   "outputs": [],
   "source": []
  }
 ],
 "metadata": {
  "kernelspec": {
   "display_name": "Python 3",
   "language": "python",
   "name": "python3"
  },
  "language_info": {
   "codemirror_mode": {
    "name": "ipython",
    "version": 3
   },
   "file_extension": ".py",
   "mimetype": "text/x-python",
   "name": "python",
   "nbconvert_exporter": "python",
   "pygments_lexer": "ipython3",
   "version": "3.6.2"
  }
 },
 "nbformat": 4,
 "nbformat_minor": 2
}
