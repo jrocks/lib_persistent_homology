{
 "cells": [
  {
   "cell_type": "code",
   "execution_count": 1,
   "metadata": {},
   "outputs": [],
   "source": [
    "import sys, os\n",
    "sys.path.insert(0, '../')\n",
    "sys.path.insert(0, '../python_src/')\n",
    "\n",
    "import numpy as np\n",
    "import scipy as sp\n",
    "import matplotlib as mpl\n",
    "import matplotlib.pyplot as plt; plt.rcdefaults()\n",
    "import seaborn as sns\n",
    "\n",
    "import homology\n",
    "import chomology"
   ]
  },
  {
   "cell_type": "code",
   "execution_count": 2,
   "metadata": {},
   "outputs": [
    {
     "name": "stdout",
     "output_type": "stream",
     "text": [
      "0 0 0 [] [5, 6, 7, 11] {}\n",
      "1 1 0 [] [5, 8, 9] {}\n",
      "2 2 0 [] [11, 12, 13] {}\n",
      "3 3 0 [] [7, 9, 10, 12] {}\n",
      "4 4 0 [] [6, 8, 10, 13] {}\n",
      "5 0 1 [1, 0] [14, 15] {0: -1, 1: 1}\n",
      "6 1 1 [4, 0] [14, 16, 19] {0: -1, 4: 1}\n",
      "7 2 1 [3, 0] [15, 16, 18] {0: -1, 3: 1}\n",
      "8 3 1 [4, 1] [14, 17] {1: -1, 4: 1}\n",
      "9 4 1 [3, 1] [15, 17] {1: -1, 3: 1}\n",
      "10 5 1 [4, 3] [16, 17, 20] {3: -1, 4: 1}\n",
      "11 6 1 [2, 0] [18, 19] {0: -1, 2: 1}\n",
      "12 7 1 [3, 2] [18, 20] {2: -1, 3: 1}\n",
      "13 8 1 [4, 2] [19, 20] {2: -1, 4: 1}\n",
      "14 0 2 [8, 6, 5] [21] {5: 1, 8: 1, 6: -1}\n",
      "15 1 2 [9, 7, 5] [21] {5: 1, 9: 1, 7: -1}\n",
      "16 2 2 [10, 6, 7] [21, 22] {7: 1, 10: 1, 6: -1}\n",
      "17 3 2 [10, 8, 9] [21] {9: 1, 10: 1, 8: -1}\n",
      "18 4 2 [12, 7, 11] [22] {11: 1, 12: 1, 7: -1}\n",
      "19 5 2 [13, 6, 11] [22] {11: 1, 13: 1, 6: -1}\n",
      "20 6 2 [10, 13, 12] [22] {12: 1, 10: 1, 13: -1}\n",
      "21 0 3 [17, 16, 14, 15] [] {15: -1, 14: 1, 17: 1, 16: -1}\n",
      "22 1 3 [20, 16, 19, 18] [] {18: -1, 19: 1, 20: 1, 16: -1}\n"
     ]
    }
   ],
   "source": [
    "vert_pos = np.array([0.0, 0.0, 0.0, 0.0, 1.1, 0.0, 1.2, 0.0, 0.0, 1.0, 1.0, 0.0, 0.0, 0.0, 1.0], float)\n",
    "weights = [0.1, 0.2, 0.1, 0.2, 0.1]\n",
    "box_mat = np.array([[1.0, 0.0, 9.9], [0.0, 1.0, 0.0], [0.0, 0.0, 1.0]], order='F')\n",
    "\n",
    "comp = chomology.construct_alpha_complex_3D(5, vert_pos, weights, box_mat)\n",
    "\n",
    "for i in range(comp.ncells):\n",
    "    print(i, comp.get_label(i), comp.get_dim(i), comp.get_facets(i), comp.get_cofacets(i), comp.get_coeffs(i))"
   ]
  },
  {
   "cell_type": "code",
   "execution_count": 3,
   "metadata": {},
   "outputs": [
    {
     "name": "stdout",
     "output_type": "stream",
     "text": [
      "[-1.0, -1.0, -1.0, -1.0, -1.0, 0.15456611570247944, 1898.1692250000003, 0.35125000000000006, 2033.9120208677684, 0.05249999999999999, 20.86716393848561, 0.26, 0.11240384615384613, 19.072500000000005, 2033.9120208677684, 0.35299586776859515, 1898.2917250000012, 2033.9120208677684, 0.38249999999999995, 1898.1692250000003, 20.86716393848561, 2033.9120208677684, 1898.2917250000012]\n",
      "[0, 1, 2, 3, 4, 9, 12, 5, 11, 7, 15, 18, 13, 10, 20, 6, 19, 16, 22, 8, 14, 17, 21]\n"
     ]
    }
   ],
   "source": [
    "alpha_vals = chomology.calc_alpha_vals_3D(vert_pos, weights, comp, box_mat)\n",
    "\n",
    "filt = chomology.construct_filtration(alpha_vals, comp)\n",
    "\n",
    "print(alpha_vals)\n",
    "print(filt.get_filtration())"
   ]
  },
  {
   "cell_type": "code",
   "execution_count": null,
   "metadata": {
    "collapsed": true
   },
   "outputs": [],
   "source": []
  },
  {
   "cell_type": "code",
   "execution_count": null,
   "metadata": {
    "collapsed": true
   },
   "outputs": [],
   "source": []
  }
 ],
 "metadata": {
  "kernelspec": {
   "display_name": "Python 3",
   "language": "python",
   "name": "python3"
  },
  "language_info": {
   "codemirror_mode": {
    "name": "ipython",
    "version": 3
   },
   "file_extension": ".py",
   "mimetype": "text/x-python",
   "name": "python",
   "nbconvert_exporter": "python",
   "pygments_lexer": "ipython3",
   "version": "3.6.4"
  }
 },
 "nbformat": 4,
 "nbformat_minor": 2
}
