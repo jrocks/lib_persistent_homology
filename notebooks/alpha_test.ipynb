{
 "cells": [
  {
   "cell_type": "code",
   "execution_count": null,
   "metadata": {},
   "outputs": [],
   "source": [
    "%load_ext autoreload\n",
    "\n",
    "import sys, os\n",
    "sys.path.insert(0, os.path.expanduser('~/lib_persistent_homology/'))\n",
    "sys.path.insert(0, os.path.expanduser('~/lib_persistent_homology/python_src/'))\n",
    "sys.path.insert(0, os.path.expanduser('~/lib_softness/python_src/'))\n",
    "\n",
    "\n",
    "import numpy as np\n",
    "import scipy as sp\n",
    "import seaborn as sns\n",
    "\n",
    "import netCDF4\n",
    "import gsd.fl\n",
    "import matplotlib as mpl\n",
    "import matplotlib.pyplot as plt; plt.rcdefaults()\n",
    "\n",
    "import phom\n",
    "import cell_complex_plot as cplot\n",
    "import softness as soft\n"
   ]
  },
  {
   "cell_type": "code",
   "execution_count": null,
   "metadata": {},
   "outputs": [],
   "source": [
    "seed = 1\n",
    "NN = 16384\n",
    "src_dir = \"/projectnb/biophys/jrocks/proj_shear_rearrange/data/memsshear/2d/2dshear_N=16384_phi=0.95_dγ=0.0001_rP=500_seed={}/\".format(seed)\n",
    "\n",
    "m = 1\n",
    "\n",
    "mode_file = \"dropdeco3_N=16384_dropthresh=perc.gsd\"\n",
    "\n",
    "with gsd.fl.GSDFile(name = src_dir +  mode_file, mode='rb') as decoFlow:\n",
    "\n",
    "    M = decoFlow.nframes\n",
    "    \n",
    "    time = decoFlow.read_chunk(frame=m,name='tc')[0]\n",
    "\n",
    "\n",
    "state = netCDF4.Dataset(src_dir + \"state.nc\", 'r')\n",
    "\n",
    "(embed, rad2) = soft.tri.get_configuration(state, time)\n"
   ]
  },
  {
   "cell_type": "code",
   "execution_count": null,
   "metadata": {},
   "outputs": [],
   "source": [
    "comp = soft.tri.construct_triangulation(embed, rad2)\n",
    "\n",
    "print(comp.ndcells)\n",
    "\n",
    "(rattlers, comp, embed, rad2) = soft.tri.remove_rattlers(comp, embed, rad2)\n",
    "\n",
    "print(comp.ndcells)"
   ]
  },
  {
   "cell_type": "code",
   "execution_count": null,
   "metadata": {},
   "outputs": [],
   "source": [
    " sns.set(context='talk', font_scale=1.25, color_codes=True, palette='deep', style='ticks', \n",
    "            rc={'mathtext.fontset': 'cm', 'xtick.direction': 'in','ytick.direction': 'in', 'axes.linewidth': 1.5, \n",
    "                'figure.dpi': 100})\n",
    "\n",
    "\n",
    "\n",
    "fig = plt.figure(figsize=(16, 16))\n",
    "\n",
    "\n",
    "########################################\n",
    "\n",
    "\n",
    "ax1 = fig.add_subplot(1,1,1, aspect='equal')\n",
    "\n",
    "\n",
    "\n",
    "styles = {}\n",
    "for i in range(*comp.dcell_range[0]):\n",
    "    styles[i] = {'color': 'blue'}\n",
    "\n",
    "cplot.show_discs(ax1, comp, embed, np.sqrt(rad2), styles=styles, zorder=-100, alpha=0.2)\n",
    "\n",
    "\n",
    "cplot.show_network(ax1, comp, embed, alpha=1.0)\n",
    "\n",
    "ax1.get_xaxis().set_ticks([])\n",
    "ax1.get_yaxis().set_ticks([])\n",
    "\n",
    "ax1.set_xlim(-0.05, 1.05)\n",
    "ax1.set_ylim(-0.05, 1.05)\n",
    "\n",
    "plt.show()"
   ]
  },
  {
   "cell_type": "code",
   "execution_count": null,
   "metadata": {},
   "outputs": [],
   "source": [
    " sns.set(context='talk', font_scale=1.25, color_codes=True, palette='deep', style='ticks', \n",
    "            rc={'mathtext.fontset': 'cm', 'xtick.direction': 'in','ytick.direction': 'in', 'axes.linewidth': 1.5, \n",
    "                'figure.dpi': 100})\n",
    "\n",
    "\n",
    "\n",
    "fig = plt.figure(figsize=(16, 16))\n",
    "\n",
    "\n",
    "########################################\n",
    "\n",
    "\n",
    "ax1 = fig.add_subplot(1,1,1, aspect='equal')\n",
    "\n",
    "\n",
    "\n",
    "styles = {}\n",
    "for i in range(*comp.dcell_range[0]):\n",
    "    styles[i] = {'color': 'blue'}\n",
    "\n",
    "cplot.show_discs(ax1, comp, embed, np.sqrt(rad2), styles=styles, zorder=-100, alpha=0.2)\n",
    "\n",
    "\n",
    "cplot.show_network(ax1, comp, embed, alpha=1.0)\n",
    "\n",
    "ax1.get_xaxis().set_ticks([])\n",
    "ax1.get_yaxis().set_ticks([])\n",
    "\n",
    "ax1.set_xlim(-0.05, 1.05)\n",
    "ax1.set_ylim(-0.05, 1.05)\n",
    "\n",
    "plt.show()"
   ]
  },
  {
   "cell_type": "code",
   "execution_count": null,
   "metadata": {},
   "outputs": [],
   "source": [
    "print(comp.ndcells)"
   ]
  },
  {
   "cell_type": "code",
   "execution_count": null,
   "metadata": {},
   "outputs": [],
   "source": [
    "alpha_vals = chomology.calc_alpha_vals_3D(vert_pos, weights, comp, box_mat)\n",
    "\n",
    "filt = chomology.construct_filtration(alpha_vals, comp)\n",
    "\n",
    "print(alpha_vals)\n",
    "print(filt.get_filtration())"
   ]
  },
  {
   "cell_type": "code",
   "execution_count": null,
   "metadata": {
    "collapsed": true
   },
   "outputs": [],
   "source": []
  },
  {
   "cell_type": "code",
   "execution_count": null,
   "metadata": {
    "collapsed": true
   },
   "outputs": [],
   "source": []
  }
 ],
 "metadata": {
  "kernelspec": {
   "display_name": "py3",
   "language": "python",
   "name": "py3"
  },
  "language_info": {
   "codemirror_mode": {
    "name": "ipython",
    "version": 3
   },
   "file_extension": ".py",
   "mimetype": "text/x-python",
   "name": "python",
   "nbconvert_exporter": "python",
   "pygments_lexer": "ipython3",
   "version": "3.7.5"
  }
 },
 "nbformat": 4,
 "nbformat_minor": 2
}
