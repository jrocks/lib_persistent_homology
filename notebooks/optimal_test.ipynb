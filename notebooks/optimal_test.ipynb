{
 "cells": [
  {
   "cell_type": "code",
   "execution_count": 1,
   "metadata": {
    "collapsed": true
   },
   "outputs": [],
   "source": [
    "import sys, os\n",
    "sys.path.insert(0, '../')\n",
    "sys.path.insert(0, '../python_src/')\n",
    "\n",
    "import numpy as np\n",
    "import scipy as sp\n",
    "import matplotlib as mpl\n",
    "import matplotlib.pyplot as plt; plt.rcdefaults()\n",
    "import seaborn as sns\n",
    "\n",
    "import homology\n",
    "import chomology"
   ]
  },
  {
   "cell_type": "code",
   "execution_count": 6,
   "metadata": {},
   "outputs": [
    {
     "name": "stdout",
     "output_type": "stream",
     "text": [
      "0 0 0 [] [4, 5] {}\n",
      "1 1 0 [] [4, 6, 7] {}\n",
      "2 2 0 [] [5, 6, 8] {}\n",
      "3 3 0 [] [7, 8] {}\n",
      "4 0 1 [0, 1] [] {1: 1, 0: -1}\n",
      "5 1 1 [0, 2] [] {2: 1, 0: -1}\n",
      "6 2 1 [1, 2] [] {2: 1, 1: -1}\n",
      "7 3 1 [1, 3] [] {3: 1, 1: -1}\n",
      "8 4 1 [2, 3] [] {3: 1, 2: -1}\n",
      "[0, 1, 4, 2, 5, 3, 7, 8, 6]\n",
      "[1, 3, 7, 2, 6, 0, 5, 4, 8]\n",
      "0 0.0 0\n",
      "1 0.0 0\n",
      "2 1.0 1\n",
      "3 2.0 2\n",
      "4 0.0 0\n",
      "5 1.0 1\n",
      "6 4.0 4\n",
      "7 2.0 2\n",
      "8 3.0 3\n",
      "([(1, 4), (2, 5), (3, 7)], [(3, 7), (2, 6), (0, 5)], [(0, 1), (6, 4), (8, 8)])\n",
      "{6: [4, 5, 6], 8: [4, 5, 7, 8]}\n"
     ]
    }
   ],
   "source": [
    "NV = 4\n",
    "NE = 5\n",
    "\n",
    "DIM = 1\n",
    "\n",
    "edgei = [0, 0, 1, 1, 2]\n",
    "edgej = [1, 2, 2, 3, 3]\n",
    "\n",
    "\n",
    "graph = chomology.Graph(NV, NE, edgei, edgej)\n",
    "\n",
    "comp = chomology.construct_graph_complex(graph, True)\n",
    "\n",
    "for i in range(comp.ncells):\n",
    "    print(i, comp.get_label(i), comp.get_dim(i), comp.get_facets(i), comp.get_cofacets(i), comp.get_coeffs(i))\n",
    "\n",
    "edge_order = [0, 1, 4, 2, 3]\n",
    "# edge_order = [0, 1, 2, 3, 4]\n",
    "\n",
    "weights = np.ones(comp.ncells, float)\n",
    "weights[4] = 1.2\n",
    "weights[5] = 1.55\n",
    "weights[6] = 1.2\n",
    "weights[7] = 1.3\n",
    "weights[8] = 1.4\n",
    "    \n",
    "filt_asc = chomology.construct_star_filtration(edge_order, edge_order, comp, ascend=True, co=True)\n",
    "filt_desc = chomology.construct_star_filtration([1, 2, 3], [1, 2, 3], comp, ascend=False, co=True)\n",
    "\n",
    "print(filt_asc.get_filtration())\n",
    "print(filt_desc.get_filtration())\n",
    "\n",
    "for i in range(comp.ncells):\n",
    "    print(i, filt_asc.get_time(i), filt_asc.get_subcomplex_order(i))\n",
    "\n",
    "    \n",
    "pairs = chomology.calc_extended_persistence(filt_asc, filt_desc, comp)\n",
    "\n",
    "print(pairs)\n",
    "\n",
    "birth_cycles = chomology.calc_birth_cycles(filt_asc, comp, dim=1)\n",
    "\n",
    "print(birth_cycles)"
   ]
  },
  {
   "cell_type": "code",
   "execution_count": 7,
   "metadata": {
    "scrolled": false
   },
   "outputs": [
    {
     "name": "stdout",
     "output_type": "stream",
     "text": [
      "Tried aggregator 1 time.\n",
      "LP Presolve eliminated 4 rows and 8 columns.\n",
      "All rows and columns eliminated.\n",
      "Presolve time = 0.01 sec. (0.00 ticks)\n",
      "solution status = Optimal\n",
      "\n",
      "cost   = 5.45\n",
      "  x0 = 0\n",
      "  x1 = 1\n",
      "  x2 = 0\n",
      "  x3 = 1\n",
      "  x4 = 1\n",
      "  x5 = 0\n",
      "  x6 = 1\n",
      "  x7 = 0\n",
      "Tried aggregator 1 time.\n",
      "LP Presolve eliminated 1 rows and 3 columns.\n",
      "Aggregator did 1 substitutions.\n",
      "Reduced LP has 3 rows, 8 columns, and 12 nonzeros.\n",
      "Presolve time = 0.00 sec. (0.01 ticks)\n",
      "\n",
      "Iteration log . . .\n",
      "Iteration:     1   Dual objective     =             2.400000\n",
      "solution status = Optimal\n",
      "\n",
      "cost   = 3.9\n",
      "  x0 = 0\n",
      "  x1 = 0\n",
      "  x2 = 0\n",
      "  x3 = 1\n",
      "  x4 = 1\n",
      "  x5 = 0\n",
      "  x6 = 0\n",
      "  x7 = 1\n",
      "  x8 = 0\n",
      "  x9 = 0\n",
      "  x10 = 0\n",
      "  x11 = 1\n",
      "{6: [7, 8, 6], 8: [4, 5, 7, 8]}\n"
     ]
    }
   ],
   "source": [
    "opt_cycles = chomology.calc_optimal_cycles(filt_asc, comp, weights, dim=1, verbose=True)\n",
    "print(opt_cycles)"
   ]
  },
  {
   "cell_type": "code",
   "execution_count": null,
   "metadata": {
    "collapsed": true
   },
   "outputs": [],
   "source": []
  },
  {
   "cell_type": "code",
   "execution_count": null,
   "metadata": {
    "collapsed": true
   },
   "outputs": [],
   "source": []
  },
  {
   "cell_type": "code",
   "execution_count": null,
   "metadata": {
    "collapsed": true
   },
   "outputs": [],
   "source": []
  }
 ],
 "metadata": {
  "kernelspec": {
   "display_name": "Python 3",
   "language": "python",
   "name": "python3"
  },
  "language_info": {
   "codemirror_mode": {
    "name": "ipython",
    "version": 3
   },
   "file_extension": ".py",
   "mimetype": "text/x-python",
   "name": "python",
   "nbconvert_exporter": "python",
   "pygments_lexer": "ipython3",
   "version": "3.6.2"
  }
 },
 "nbformat": 4,
 "nbformat_minor": 2
}
